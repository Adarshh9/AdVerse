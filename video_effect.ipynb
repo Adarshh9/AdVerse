{
 "cells": [
  {
   "cell_type": "code",
   "execution_count": 2,
   "metadata": {},
   "outputs": [
    {
     "name": "stdout",
     "output_type": "stream",
     "text": [
      "Defaulting to user installation because normal site-packages is not writeable\n",
      "Requirement already satisfied: moviepy in /home/adarsh/.local/lib/python3.11/site-packages (1.0.3)\n",
      "Requirement already satisfied: decorator<5.0,>=4.0.2 in /home/adarsh/.local/lib/python3.11/site-packages (from moviepy) (4.4.2)\n",
      "Requirement already satisfied: proglog<=1.0.0 in /home/adarsh/.local/lib/python3.11/site-packages (from moviepy) (0.1.10)\n",
      "Requirement already satisfied: requests<3.0,>=2.8.1 in /home/adarsh/.local/lib/python3.11/site-packages (from moviepy) (2.31.0)\n",
      "Requirement already satisfied: tqdm<5.0,>=4.11.2 in /home/adarsh/.local/lib/python3.11/site-packages (from moviepy) (4.65.0)\n",
      "Requirement already satisfied: numpy>=1.17.3 in /home/adarsh/.local/lib/python3.11/site-packages (from moviepy) (1.24.3)\n",
      "Requirement already satisfied: imageio<3.0,>=2.5 in /home/adarsh/.local/lib/python3.11/site-packages (from moviepy) (2.33.1)\n",
      "Requirement already satisfied: imageio-ffmpeg>=0.2.0 in /home/adarsh/.local/lib/python3.11/site-packages (from moviepy) (0.4.9)\n",
      "Requirement already satisfied: pillow>=8.3.2 in /home/adarsh/.local/lib/python3.11/site-packages (from imageio<3.0,>=2.5->moviepy) (10.0.0)\n",
      "Requirement already satisfied: setuptools in /usr/lib/python3/dist-packages (from imageio-ffmpeg>=0.2.0->moviepy) (59.6.0)\n",
      "Requirement already satisfied: charset-normalizer<4,>=2 in /home/adarsh/.local/lib/python3.11/site-packages (from requests<3.0,>=2.8.1->moviepy) (3.2.0)\n",
      "Requirement already satisfied: idna<4,>=2.5 in /home/adarsh/.local/lib/python3.11/site-packages (from requests<3.0,>=2.8.1->moviepy) (2.10)\n",
      "Requirement already satisfied: urllib3<3,>=1.21.1 in /home/adarsh/.local/lib/python3.11/site-packages (from requests<3.0,>=2.8.1->moviepy) (1.26.17)\n",
      "Requirement already satisfied: certifi>=2017.4.17 in /home/adarsh/.local/lib/python3.11/site-packages (from requests<3.0,>=2.8.1->moviepy) (2022.12.7)\n",
      "Note: you may need to restart the kernel to use updated packages.\n"
     ]
    }
   ],
   "source": [
    "pip install moviepy"
   ]
  },
  {
   "cell_type": "code",
   "execution_count": 3,
   "metadata": {},
   "outputs": [
    {
     "data": {
      "text/plain": [
       "'3.11.7 (main, Dec  8 2023, 18:56:58) [GCC 11.4.0]'"
      ]
     },
     "execution_count": 3,
     "metadata": {},
     "output_type": "execute_result"
    }
   ],
   "source": [
    "import sys\n",
    "sys.version"
   ]
  },
  {
   "cell_type": "code",
   "execution_count": 4,
   "metadata": {},
   "outputs": [
    {
     "name": "stdout",
     "output_type": "stream",
     "text": [
      "Name: moviepy\n",
      "Version: 1.0.3\n",
      "Summary: Video editing with Python\n",
      "Home-page: https://zulko.github.io/moviepy/\n",
      "Author: Zulko 2017\n",
      "Author-email: \n",
      "License: MIT License\n",
      "Location: /home/adarsh/.local/lib/python3.10/site-packages\n",
      "Requires: decorator, imageio, imageio-ffmpeg, numpy, numpy, proglog, requests, tqdm\n",
      "Required-by: \n"
     ]
    }
   ],
   "source": [
    "!pip show moviepy"
   ]
  },
  {
   "cell_type": "code",
   "execution_count": 7,
   "metadata": {},
   "outputs": [],
   "source": [
    "from moviepy.config import change_settings\n",
    "\n",
    "# Specify the path to the ImageMagick binary\n",
    "change_settings({\"IMAGEMAGICK_BINARY\": \"/usr/bin/convert\"})"
   ]
  },
  {
   "cell_type": "code",
   "execution_count": 1,
   "metadata": {},
   "outputs": [],
   "source": [
    "from moviepy.editor import VideoFileClip, TextClip, CompositeVideoClip\n",
    "import numpy as np"
   ]
  },
  {
   "cell_type": "code",
   "execution_count": 5,
   "metadata": {},
   "outputs": [
    {
     "ename": "OSError",
     "evalue": "MoviePy Error: creation of None failed because of the following error:\n\n[Errno 2] No such file or directory: 'unset'.\n\n.This error can be due to the fact that ImageMagick is not installed on your computer, or (for Windows users) that you didn't specify the path to the ImageMagick binary in file conf.py, or that the path you specified is incorrect",
     "output_type": "error",
     "traceback": [
      "\u001b[0;31m---------------------------------------------------------------------------\u001b[0m",
      "\u001b[0;31mFileNotFoundError\u001b[0m                         Traceback (most recent call last)",
      "File \u001b[0;32m~/.local/lib/python3.11/site-packages/moviepy/video/VideoClip.py:1137\u001b[0m, in \u001b[0;36mTextClip.__init__\u001b[0;34m(self, txt, filename, size, color, bg_color, fontsize, font, stroke_color, stroke_width, method, kerning, align, interline, tempfilename, temptxt, transparent, remove_temp, print_cmd)\u001b[0m\n\u001b[1;32m   1136\u001b[0m \u001b[38;5;28;01mtry\u001b[39;00m:\n\u001b[0;32m-> 1137\u001b[0m     \u001b[43msubprocess_call\u001b[49m\u001b[43m(\u001b[49m\u001b[43mcmd\u001b[49m\u001b[43m,\u001b[49m\u001b[43m \u001b[49m\u001b[43mlogger\u001b[49m\u001b[38;5;241;43m=\u001b[39;49m\u001b[38;5;28;43;01mNone\u001b[39;49;00m\u001b[43m)\u001b[49m\n\u001b[1;32m   1138\u001b[0m \u001b[38;5;28;01mexcept\u001b[39;00m (\u001b[38;5;167;01mIOError\u001b[39;00m, \u001b[38;5;167;01mOSError\u001b[39;00m) \u001b[38;5;28;01mas\u001b[39;00m err:\n",
      "File \u001b[0;32m~/.local/lib/python3.11/site-packages/moviepy/tools.py:46\u001b[0m, in \u001b[0;36msubprocess_call\u001b[0;34m(cmd, logger, errorprint)\u001b[0m\n\u001b[1;32m     44\u001b[0m     popen_params[\u001b[38;5;124m\"\u001b[39m\u001b[38;5;124mcreationflags\u001b[39m\u001b[38;5;124m\"\u001b[39m] \u001b[38;5;241m=\u001b[39m \u001b[38;5;241m0x08000000\u001b[39m\n\u001b[0;32m---> 46\u001b[0m proc \u001b[38;5;241m=\u001b[39m \u001b[43msp\u001b[49m\u001b[38;5;241;43m.\u001b[39;49m\u001b[43mPopen\u001b[49m\u001b[43m(\u001b[49m\u001b[43mcmd\u001b[49m\u001b[43m,\u001b[49m\u001b[43m \u001b[49m\u001b[38;5;241;43m*\u001b[39;49m\u001b[38;5;241;43m*\u001b[39;49m\u001b[43mpopen_params\u001b[49m\u001b[43m)\u001b[49m\n\u001b[1;32m     48\u001b[0m out, err \u001b[38;5;241m=\u001b[39m proc\u001b[38;5;241m.\u001b[39mcommunicate() \u001b[38;5;66;03m# proc.wait()\u001b[39;00m\n",
      "File \u001b[0;32m/usr/lib/python3.11/subprocess.py:1026\u001b[0m, in \u001b[0;36mPopen.__init__\u001b[0;34m(self, args, bufsize, executable, stdin, stdout, stderr, preexec_fn, close_fds, shell, cwd, env, universal_newlines, startupinfo, creationflags, restore_signals, start_new_session, pass_fds, user, group, extra_groups, encoding, errors, text, umask, pipesize, process_group)\u001b[0m\n\u001b[1;32m   1023\u001b[0m             \u001b[38;5;28mself\u001b[39m\u001b[38;5;241m.\u001b[39mstderr \u001b[38;5;241m=\u001b[39m io\u001b[38;5;241m.\u001b[39mTextIOWrapper(\u001b[38;5;28mself\u001b[39m\u001b[38;5;241m.\u001b[39mstderr,\n\u001b[1;32m   1024\u001b[0m                     encoding\u001b[38;5;241m=\u001b[39mencoding, errors\u001b[38;5;241m=\u001b[39merrors)\n\u001b[0;32m-> 1026\u001b[0m     \u001b[38;5;28;43mself\u001b[39;49m\u001b[38;5;241;43m.\u001b[39;49m\u001b[43m_execute_child\u001b[49m\u001b[43m(\u001b[49m\u001b[43margs\u001b[49m\u001b[43m,\u001b[49m\u001b[43m \u001b[49m\u001b[43mexecutable\u001b[49m\u001b[43m,\u001b[49m\u001b[43m \u001b[49m\u001b[43mpreexec_fn\u001b[49m\u001b[43m,\u001b[49m\u001b[43m \u001b[49m\u001b[43mclose_fds\u001b[49m\u001b[43m,\u001b[49m\n\u001b[1;32m   1027\u001b[0m \u001b[43m                        \u001b[49m\u001b[43mpass_fds\u001b[49m\u001b[43m,\u001b[49m\u001b[43m \u001b[49m\u001b[43mcwd\u001b[49m\u001b[43m,\u001b[49m\u001b[43m \u001b[49m\u001b[43menv\u001b[49m\u001b[43m,\u001b[49m\n\u001b[1;32m   1028\u001b[0m \u001b[43m                        \u001b[49m\u001b[43mstartupinfo\u001b[49m\u001b[43m,\u001b[49m\u001b[43m \u001b[49m\u001b[43mcreationflags\u001b[49m\u001b[43m,\u001b[49m\u001b[43m \u001b[49m\u001b[43mshell\u001b[49m\u001b[43m,\u001b[49m\n\u001b[1;32m   1029\u001b[0m \u001b[43m                        \u001b[49m\u001b[43mp2cread\u001b[49m\u001b[43m,\u001b[49m\u001b[43m \u001b[49m\u001b[43mp2cwrite\u001b[49m\u001b[43m,\u001b[49m\n\u001b[1;32m   1030\u001b[0m \u001b[43m                        \u001b[49m\u001b[43mc2pread\u001b[49m\u001b[43m,\u001b[49m\u001b[43m \u001b[49m\u001b[43mc2pwrite\u001b[49m\u001b[43m,\u001b[49m\n\u001b[1;32m   1031\u001b[0m \u001b[43m                        \u001b[49m\u001b[43merrread\u001b[49m\u001b[43m,\u001b[49m\u001b[43m \u001b[49m\u001b[43merrwrite\u001b[49m\u001b[43m,\u001b[49m\n\u001b[1;32m   1032\u001b[0m \u001b[43m                        \u001b[49m\u001b[43mrestore_signals\u001b[49m\u001b[43m,\u001b[49m\n\u001b[1;32m   1033\u001b[0m \u001b[43m                        \u001b[49m\u001b[43mgid\u001b[49m\u001b[43m,\u001b[49m\u001b[43m \u001b[49m\u001b[43mgids\u001b[49m\u001b[43m,\u001b[49m\u001b[43m \u001b[49m\u001b[43muid\u001b[49m\u001b[43m,\u001b[49m\u001b[43m \u001b[49m\u001b[43mumask\u001b[49m\u001b[43m,\u001b[49m\n\u001b[1;32m   1034\u001b[0m \u001b[43m                        \u001b[49m\u001b[43mstart_new_session\u001b[49m\u001b[43m,\u001b[49m\u001b[43m \u001b[49m\u001b[43mprocess_group\u001b[49m\u001b[43m)\u001b[49m\n\u001b[1;32m   1035\u001b[0m \u001b[38;5;28;01mexcept\u001b[39;00m:\n\u001b[1;32m   1036\u001b[0m     \u001b[38;5;66;03m# Cleanup if the child failed starting.\u001b[39;00m\n",
      "File \u001b[0;32m/usr/lib/python3.11/subprocess.py:1950\u001b[0m, in \u001b[0;36mPopen._execute_child\u001b[0;34m(self, args, executable, preexec_fn, close_fds, pass_fds, cwd, env, startupinfo, creationflags, shell, p2cread, p2cwrite, c2pread, c2pwrite, errread, errwrite, restore_signals, gid, gids, uid, umask, start_new_session, process_group)\u001b[0m\n\u001b[1;32m   1949\u001b[0m         err_msg \u001b[38;5;241m=\u001b[39m os\u001b[38;5;241m.\u001b[39mstrerror(errno_num)\n\u001b[0;32m-> 1950\u001b[0m     \u001b[38;5;28;01mraise\u001b[39;00m child_exception_type(errno_num, err_msg, err_filename)\n\u001b[1;32m   1951\u001b[0m \u001b[38;5;28;01mraise\u001b[39;00m child_exception_type(err_msg)\n",
      "\u001b[0;31mFileNotFoundError\u001b[0m: [Errno 2] No such file or directory: 'unset'",
      "\nDuring handling of the above exception, another exception occurred:\n",
      "\u001b[0;31mOSError\u001b[0m                                   Traceback (most recent call last)",
      "Cell \u001b[0;32mIn[5], line 9\u001b[0m\n\u001b[1;32m      6\u001b[0m video_clip \u001b[38;5;241m=\u001b[39m VideoFileClip(\u001b[38;5;124m\"\u001b[39m\u001b[38;5;124m000000.mp4\u001b[39m\u001b[38;5;124m\"\u001b[39m)\n\u001b[1;32m      8\u001b[0m \u001b[38;5;66;03m# Create a TextClip with the sparkling effect\u001b[39;00m\n\u001b[0;32m----> 9\u001b[0m sparkling_clip \u001b[38;5;241m=\u001b[39m \u001b[43mTextClip\u001b[49m\u001b[43m(\u001b[49m\u001b[38;5;124;43m\"\u001b[39;49m\u001b[38;5;124;43m.\u001b[39;49m\u001b[38;5;124;43m\"\u001b[39;49m\u001b[43m,\u001b[49m\u001b[43m \u001b[49m\u001b[43mfontsize\u001b[49m\u001b[38;5;241;43m=\u001b[39;49m\u001b[38;5;241;43m100\u001b[39;49m\u001b[43m,\u001b[49m\u001b[43m \u001b[49m\u001b[43mcolor\u001b[49m\u001b[38;5;241;43m=\u001b[39;49m\u001b[38;5;124;43m\"\u001b[39;49m\u001b[38;5;124;43mwhite\u001b[39;49m\u001b[38;5;124;43m\"\u001b[39;49m\u001b[43m,\u001b[49m\u001b[43m \u001b[49m\u001b[43mbg_color\u001b[49m\u001b[38;5;241;43m=\u001b[39;49m\u001b[38;5;124;43m\"\u001b[39;49m\u001b[38;5;124;43mtransparent\u001b[39;49m\u001b[38;5;124;43m\"\u001b[39;49m\u001b[43m)\u001b[49m\n\u001b[1;32m     10\u001b[0m sparkling_clip \u001b[38;5;241m=\u001b[39m sparkling_clip\u001b[38;5;241m.\u001b[39mset_duration(video_clip\u001b[38;5;241m.\u001b[39mduration)\n\u001b[1;32m     11\u001b[0m sparkling_clip \u001b[38;5;241m=\u001b[39m sparkling_clip\u001b[38;5;241m.\u001b[39mset_position((\u001b[38;5;124m'\u001b[39m\u001b[38;5;124mcenter\u001b[39m\u001b[38;5;124m'\u001b[39m, \u001b[38;5;124m'\u001b[39m\u001b[38;5;124mcenter\u001b[39m\u001b[38;5;124m'\u001b[39m))\n",
      "File \u001b[0;32m~/.local/lib/python3.11/site-packages/moviepy/video/VideoClip.py:1146\u001b[0m, in \u001b[0;36mTextClip.__init__\u001b[0;34m(self, txt, filename, size, color, bg_color, fontsize, font, stroke_color, stroke_width, method, kerning, align, interline, tempfilename, temptxt, transparent, remove_temp, print_cmd)\u001b[0m\n\u001b[1;32m   1138\u001b[0m \u001b[38;5;28;01mexcept\u001b[39;00m (\u001b[38;5;167;01mIOError\u001b[39;00m, \u001b[38;5;167;01mOSError\u001b[39;00m) \u001b[38;5;28;01mas\u001b[39;00m err:\n\u001b[1;32m   1139\u001b[0m     error \u001b[38;5;241m=\u001b[39m (\u001b[38;5;124m\"\u001b[39m\u001b[38;5;124mMoviePy Error: creation of \u001b[39m\u001b[38;5;132;01m%s\u001b[39;00m\u001b[38;5;124m failed because of the \u001b[39m\u001b[38;5;124m\"\u001b[39m\n\u001b[1;32m   1140\u001b[0m              \u001b[38;5;124m\"\u001b[39m\u001b[38;5;124mfollowing error:\u001b[39m\u001b[38;5;130;01m\\n\u001b[39;00m\u001b[38;5;130;01m\\n\u001b[39;00m\u001b[38;5;132;01m%s\u001b[39;00m\u001b[38;5;124m.\u001b[39m\u001b[38;5;130;01m\\n\u001b[39;00m\u001b[38;5;130;01m\\n\u001b[39;00m\u001b[38;5;124m.\u001b[39m\u001b[38;5;124m\"\u001b[39m \u001b[38;5;241m%\u001b[39m (filename, \u001b[38;5;28mstr\u001b[39m(err))\n\u001b[1;32m   1141\u001b[0m              \u001b[38;5;241m+\u001b[39m (\u001b[38;5;124m\"\u001b[39m\u001b[38;5;124mThis error can be due to the fact that ImageMagick \u001b[39m\u001b[38;5;124m\"\u001b[39m\n\u001b[0;32m   (...)\u001b[0m\n\u001b[1;32m   1144\u001b[0m                 \u001b[38;5;124m\"\u001b[39m\u001b[38;5;124mImageMagick binary in file conf.py, or that the path \u001b[39m\u001b[38;5;124m\"\u001b[39m\n\u001b[1;32m   1145\u001b[0m                 \u001b[38;5;124m\"\u001b[39m\u001b[38;5;124myou specified is incorrect\u001b[39m\u001b[38;5;124m\"\u001b[39m))\n\u001b[0;32m-> 1146\u001b[0m     \u001b[38;5;28;01mraise\u001b[39;00m \u001b[38;5;167;01mIOError\u001b[39;00m(error)\n\u001b[1;32m   1148\u001b[0m ImageClip\u001b[38;5;241m.\u001b[39m\u001b[38;5;21m__init__\u001b[39m(\u001b[38;5;28mself\u001b[39m, tempfilename, transparent\u001b[38;5;241m=\u001b[39mtransparent)\n\u001b[1;32m   1149\u001b[0m \u001b[38;5;28mself\u001b[39m\u001b[38;5;241m.\u001b[39mtxt \u001b[38;5;241m=\u001b[39m txt\n",
      "\u001b[0;31mOSError\u001b[0m: MoviePy Error: creation of None failed because of the following error:\n\n[Errno 2] No such file or directory: 'unset'.\n\n.This error can be due to the fact that ImageMagick is not installed on your computer, or (for Windows users) that you didn't specify the path to the ImageMagick binary in file conf.py, or that the path you specified is incorrect"
     ]
    }
   ],
   "source": [
    "\n",
    "# Function to create a sparkling effect\n",
    "def sparkling_effect(t, freq=2, ampl=2):\n",
    "    return [ampl * np.sin(freq * 2 * np.pi * t), ampl * np.sin(freq * 2 * np.pi * t)]\n",
    "\n",
    "# Load the video clip\n",
    "video_clip = VideoFileClip(\"000000.mp4\")\n",
    "\n",
    "# Create a TextClip with the sparkling effect\n",
    "sparkling_clip = TextClip(\".\", fontsize=100, color=\"white\", bg_color=\"transparent\")\n",
    "sparkling_clip = sparkling_clip.set_duration(video_clip.duration)\n",
    "sparkling_clip = sparkling_clip.set_position(('center', 'center'))\n",
    "sparkling_clip = sparkling_clip.set_mask(sparkling_clip.mask.fx(sparkling_effect))\n",
    "\n",
    "# Combine the original video and the sparkling effect\n",
    "final_clip = CompositeVideoClip([video_clip, sparkling_clip])\n",
    "\n",
    "# Write the result to a file\n",
    "final_clip.write_videofile(\"output_video.mp4\", codec=\"libx264\", audio_codec=\"aac\", temp_audiofile=\"temp-audio.m4a\", remove_temp=True)"
   ]
  },
  {
   "cell_type": "code",
   "execution_count": null,
   "metadata": {},
   "outputs": [],
   "source": []
  },
  {
   "cell_type": "code",
   "execution_count": 6,
   "metadata": {},
   "outputs": [],
   "source": [
    "import cv2\n",
    "import numpy as np\n",
    "\n",
    "# Function to create a sparkling effect\n",
    "def sparkling_effect(frame, freq=2, ampl=2):\n",
    "    t = cv2.getTickCount() / cv2.getTickFrequency()\n",
    "    alpha = ampl * np.sin(freq * 2 * np.pi * t)\n",
    "    \n",
    "    # Apply sparkling effect to the frame\n",
    "    return cv2.addWeighted(frame, 1 + alpha, np.zeros_like(frame), 0, 0)\n",
    "\n",
    "# Open video file\n",
    "video_capture = cv2.VideoCapture(\"000000.mp4\")\n",
    "\n",
    "# Get video properties\n",
    "fps = video_capture.get(cv2.CAP_PROP_FPS)\n",
    "width = int(video_capture.get(cv2.CAP_PROP_FRAME_WIDTH))\n",
    "height = int(video_capture.get(cv2.CAP_PROP_FRAME_HEIGHT))\n",
    "\n",
    "# Create video writer\n",
    "fourcc = cv2.VideoWriter_fourcc(*\"mp4v\")\n",
    "video_writer = cv2.VideoWriter(\"output_video_opencv.mp4\", fourcc, fps, (width, height))\n",
    "\n",
    "while True:\n",
    "    ret, frame = video_capture.read()\n",
    "    if not ret:\n",
    "        break\n",
    "    \n",
    "    # Apply sparkling effect to the frame\n",
    "    frame_sparkling = sparkling_effect(frame)\n",
    "    \n",
    "    # Write the frame to the output video\n",
    "    video_writer.write(frame_sparkling)\n",
    "\n",
    "# Release video writer and capture\n",
    "video_writer.release()\n",
    "video_capture.release()\n"
   ]
  },
  {
   "cell_type": "code",
   "execution_count": 7,
   "metadata": {},
   "outputs": [],
   "source": [
    "import cv2\n",
    "import numpy as np\n",
    "\n",
    "# Function to create a fade-in effect\n",
    "def fade_in_effect(frame, fade_factor=0.02):\n",
    "    alpha = min(1.0, fade_factor * frame_count)\n",
    "    \n",
    "    # Apply fade-in effect to the frame\n",
    "    return cv2.addWeighted(frame, alpha, np.zeros_like(frame), 0, 0)\n",
    "\n",
    "# Open video file\n",
    "video_capture = cv2.VideoCapture(\"000000.mp4\")\n",
    "\n",
    "# Get video properties\n",
    "fps = video_capture.get(cv2.CAP_PROP_FPS)\n",
    "width = int(video_capture.get(cv2.CAP_PROP_FRAME_WIDTH))\n",
    "height = int(video_capture.get(cv2.CAP_PROP_FRAME_HEIGHT))\n",
    "frame_count = 0\n",
    "\n",
    "# Create video writer\n",
    "fourcc = cv2.VideoWriter_fourcc(*\"mp4v\")\n",
    "video_writer = cv2.VideoWriter(\"output_video_fade_in.mp4\", fourcc, fps, (width, height))\n",
    "\n",
    "while True:\n",
    "    ret, frame = video_capture.read()\n",
    "    if not ret:\n",
    "        break\n",
    "    \n",
    "    # Apply fade-in effect to the frame\n",
    "    frame_fade_in = fade_in_effect(frame)\n",
    "    \n",
    "    # Increment frame count\n",
    "    frame_count += 1\n",
    "    \n",
    "    # Write the frame to the output video\n",
    "    video_writer.write(frame_fade_in)\n",
    "\n",
    "# Release video writer and capture\n",
    "video_writer.release()\n",
    "video_capture.release()"
   ]
  },
  {
   "cell_type": "code",
   "execution_count": 8,
   "metadata": {},
   "outputs": [],
   "source": [
    "import cv2\n",
    "\n",
    "# Open video file\n",
    "video_capture = cv2.VideoCapture(\"000000.mp4\")\n",
    "\n",
    "# Get video properties\n",
    "fps = video_capture.get(cv2.CAP_PROP_FPS)\n",
    "width = int(video_capture.get(cv2.CAP_PROP_FRAME_WIDTH))\n",
    "height = int(video_capture.get(cv2.CAP_PROP_FRAME_HEIGHT))\n",
    "\n",
    "# Create video writer\n",
    "fourcc = cv2.VideoWriter_fourcc(*\"mp4v\")\n",
    "video_writer = cv2.VideoWriter(\"output_video_grayscale.mp4\", fourcc, fps, (width, height), isColor=False)\n",
    "\n",
    "while True:\n",
    "    ret, frame = video_capture.read()\n",
    "    if not ret:\n",
    "        break\n",
    "    \n",
    "    # Apply grayscale effect to the frame\n",
    "    frame_grayscale = cv2.cvtColor(frame, cv2.COLOR_BGR2GRAY)\n",
    "    \n",
    "    # Write the frame to the output video\n",
    "    video_writer.write(frame_grayscale)\n",
    "\n",
    "# Release video writer and capture\n",
    "video_writer.release()\n",
    "video_capture.release()\n"
   ]
  },
  {
   "cell_type": "code",
   "execution_count": 10,
   "metadata": {},
   "outputs": [],
   "source": [
    "import cv2\n",
    "\n",
    "# Open video file\n",
    "video_capture = cv2.VideoCapture(\"000000.mp4\")\n",
    "\n",
    "# Get video properties\n",
    "fps = video_capture.get(cv2.CAP_PROP_FPS)\n",
    "width = int(video_capture.get(cv2.CAP_PROP_FRAME_WIDTH))\n",
    "height = int(video_capture.get(cv2.CAP_PROP_FRAME_HEIGHT))\n",
    "\n",
    "# Create video writer\n",
    "fourcc = cv2.VideoWriter_fourcc(*\"mp4v\")\n",
    "video_writer = cv2.VideoWriter(\"output_video_blur.mp4\", fourcc, fps, (width, height))\n",
    "\n",
    "while True:\n",
    "    ret, frame = video_capture.read()\n",
    "    if not ret:\n",
    "        break\n",
    "    \n",
    "    # Apply blur effect to the frame\n",
    "    frame_blur = cv2.GaussianBlur(frame, (15, 15), 0)\n",
    "    \n",
    "    # Write the frame to the output video\n",
    "    video_writer.write(frame_blur)\n",
    "\n",
    "# Release video writer and capture\n",
    "video_writer.release()\n",
    "video_capture.release()\n"
   ]
  },
  {
   "cell_type": "code",
   "execution_count": 11,
   "metadata": {},
   "outputs": [],
   "source": [
    "import cv2\n",
    "\n",
    "# Open video file\n",
    "video_capture = cv2.VideoCapture(\"000000.mp4\")\n",
    "\n",
    "# Get video properties\n",
    "fps = video_capture.get(cv2.CAP_PROP_FPS)\n",
    "width = int(video_capture.get(cv2.CAP_PROP_FRAME_WIDTH))\n",
    "height = int(video_capture.get(cv2.CAP_PROP_FRAME_HEIGHT))\n",
    "\n",
    "# Create video writer\n",
    "fourcc = cv2.VideoWriter_fourcc(*\"mp4v\")\n",
    "video_writer = cv2.VideoWriter(\"output_video_edges.mp4\", fourcc, fps, (width, height))\n",
    "\n",
    "while True:\n",
    "    ret, frame = video_capture.read()\n",
    "    if not ret:\n",
    "        break\n",
    "    \n",
    "    # Apply edge detection effect to the frame\n",
    "    frame_gray = cv2.cvtColor(frame, cv2.COLOR_BGR2GRAY)\n",
    "    frame_edges = cv2.Canny(frame_gray, 50, 150)\n",
    "    \n",
    "    # Convert edges to BGR format\n",
    "    frame_edges_bgr = cv2.cvtColor(frame_edges, cv2.COLOR_GRAY2BGR)\n",
    "    \n",
    "    # Write the frame to the output video\n",
    "    video_writer.write(frame_edges_bgr)\n",
    "\n",
    "# Release video writer and capture\n",
    "video_writer.release()\n",
    "video_capture.release()\n"
   ]
  },
  {
   "cell_type": "code",
   "execution_count": 12,
   "metadata": {},
   "outputs": [],
   "source": [
    "import cv2\n",
    "\n",
    "# Open video file\n",
    "video_capture = cv2.VideoCapture(\"000000.mp4\")\n",
    "\n",
    "# Get video properties\n",
    "fps = video_capture.get(cv2.CAP_PROP_FPS)\n",
    "width = int(video_capture.get(cv2.CAP_PROP_FRAME_WIDTH))\n",
    "height = int(video_capture.get(cv2.CAP_PROP_FRAME_HEIGHT))\n",
    "\n",
    "# Create video writer\n",
    "fourcc = cv2.VideoWriter_fourcc(*\"mp4v\")\n",
    "video_writer = cv2.VideoWriter(\"output_video_inverted_colors.mp4\", fourcc, fps, (width, height))\n",
    "\n",
    "while True:\n",
    "    ret, frame = video_capture.read()\n",
    "    if not ret:\n",
    "        break\n",
    "    \n",
    "    # Apply invert colors effect to the frame\n",
    "    frame_inverted = cv2.bitwise_not(frame)\n",
    "    \n",
    "    # Write the frame to the output video\n",
    "    video_writer.write(frame_inverted)\n",
    "\n",
    "# Release video writer and capture\n",
    "video_writer.release()\n",
    "video_capture.release()\n"
   ]
  },
  {
   "cell_type": "code",
   "execution_count": 13,
   "metadata": {},
   "outputs": [],
   "source": [
    "import cv2\n",
    "\n",
    "# Open video file\n",
    "video_capture = cv2.VideoCapture(\"000000.mp4\")\n",
    "\n",
    "# Get video properties\n",
    "fps = video_capture.get(cv2.CAP_PROP_FPS)\n",
    "width = int(video_capture.get(cv2.CAP_PROP_FRAME_WIDTH))\n",
    "height = int(video_capture.get(cv2.CAP_PROP_FRAME_HEIGHT))\n",
    "\n",
    "# Create video writer\n",
    "fourcc = cv2.VideoWriter_fourcc(*\"mp4v\")\n",
    "video_writer = cv2.VideoWriter(\"output_video_rotated.mp4\", fourcc, fps, (height, width))\n",
    "\n",
    "while True:\n",
    "    ret, frame = video_capture.read()\n",
    "    if not ret:\n",
    "        break\n",
    "    \n",
    "    # Apply rotate effect to the frame\n",
    "    frame_rotated = cv2.transpose(frame)\n",
    "    frame_rotated = cv2.flip(frame_rotated, 1)\n",
    "    \n",
    "    # Write the frame to the output video\n",
    "    video_writer.write(frame_rotated)\n",
    "\n",
    "# Release video writer and capture\n",
    "video_writer.release()\n",
    "video_capture.release()\n"
   ]
  },
  {
   "cell_type": "code",
   "execution_count": null,
   "metadata": {},
   "outputs": [],
   "source": []
  }
 ],
 "metadata": {
  "kernelspec": {
   "display_name": "Python 3",
   "language": "python",
   "name": "python3"
  },
  "language_info": {
   "codemirror_mode": {
    "name": "ipython",
    "version": 3
   },
   "file_extension": ".py",
   "mimetype": "text/x-python",
   "name": "python",
   "nbconvert_exporter": "python",
   "pygments_lexer": "ipython3",
   "version": "3.11.7"
  }
 },
 "nbformat": 4,
 "nbformat_minor": 2
}
